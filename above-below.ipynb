{
 "cells": [
  {
   "cell_type": "code",
   "execution_count": 1,
   "metadata": {},
   "outputs": [
    {
     "name": "stdout",
     "output_type": "stream",
     "text": [
      "3157\n"
     ]
    }
   ],
   "source": [
    "import math\n",
    "import yfinance as yf\n",
    "import pandas as pd\n",
    "import numpy as np\n",
    "import matplotlib.pyplot as plt\n",
    "path = \"finviz.csv\"\n",
    "\n",
    "def get_column_from_csv(file, col_name):\n",
    "    try:\n",
    "        df = pd.read_csv(file)\n",
    "    except FileNotFoundError:\n",
    "        print(\"File Doesn't Exist\")\n",
    "    else:\n",
    "        return df[col_name]\n",
    "\n",
    "\n",
    "tickers = get_column_from_csv(path, \"Ticker\")\n",
    "tickers = tickers.tolist()\n",
    "print(len(tickers))\n"
   ]
  },
  {
   "cell_type": "code",
   "execution_count": null,
   "metadata": {},
   "outputs": [],
   "source": [
    "#download data and save Close price\n",
    "anchorData = yf.download(tickers)\n",
    "anchorData.head()\n",
    "closingPrices = anchorData[\"Close\"]\n"
   ]
  },
  {
   "cell_type": "code",
   "execution_count": null,
   "metadata": {},
   "outputs": [],
   "source": [
    "# display data\n",
    "closingPrices.tail()"
   ]
  },
  {
   "cell_type": "code",
   "execution_count": null,
   "metadata": {},
   "outputs": [],
   "source": [
    "# Save data to csv to avoid downloading again\n",
    "closingPrices.to_csv(\"AllClosingPricesToday.csv\")"
   ]
  },
  {
   "cell_type": "code",
   "execution_count": null,
   "metadata": {},
   "outputs": [],
   "source": [
    "# Read from csv (i reccomend always writing and reading in once becuase the formatting is weird sometimes and can affect pandas*)\n",
    "closingPrices = pd.read_csv(\"AllClosingPricesToday.csv\")\n",
    "closingPrices.tail()"
   ]
  },
  {
   "cell_type": "code",
   "execution_count": null,
   "metadata": {},
   "outputs": [],
   "source": [
    "#Get all prices from between a start and end date\n",
    "def getSearchRange(start, end):\n",
    "    return closingPrices[closingPrices['Date'].between(start, end)]\n",
    "\n"
   ]
  },
  {
   "cell_type": "code",
   "execution_count": null,
   "metadata": {},
   "outputs": [],
   "source": [
    "# Try out get search range\n",
    "test = getSearchRange('2022-12-01 00:00:00-05:00', '2022-12-31 00:00:00-05:00')\n",
    "test.tail()"
   ]
  },
  {
   "cell_type": "code",
   "execution_count": null,
   "metadata": {},
   "outputs": [],
   "source": [
    "validTickers = {}\n",
    "invalidTickers = []\n",
    "# get min price of each ticker from certain dates\n",
    "searchRange = getSearchRange(\"2022-01-01 00:00:00-05:00\", \"2022-12-31 00:00:00-05:00\")\n",
    "for ticker in tickers:\n",
    "    \n",
    "    if ticker not in searchRange:\n",
    "        invalidTickers.append(ticker)\n",
    "        continue\n",
    "    lowest = min(searchRange[ticker])\n",
    "\n",
    "    if math.isnan(lowest):\n",
    "        invalidTickers.append(ticker)\n",
    "    else:\n",
    "        validTickers[ticker] = round(lowest, 2)\n",
    "\n",
    "\n",
    "todaysTickers = list(validTickers.keys())\n",
    "todaysTickers.sort()\n"
   ]
  },
  {
   "cell_type": "code",
   "execution_count": 14,
   "metadata": {},
   "outputs": [],
   "source": [
    "validTickers = {}\n",
    "invalidTickers = []\n",
    "# get max price of each ticker from certain dates\n",
    "searchRange = getSearchRange(\"2022-10-14 00:00:00-05:00\", \"2022-12-16 00:00:00-05:00\")\n",
    "for ticker in tickers:\n",
    "    \n",
    "    if ticker not in searchRange:\n",
    "        invalidTickers.append(ticker)\n",
    "        continue\n",
    "    lowest = max(searchRange[ticker])\n",
    "\n",
    "    if math.isnan(lowest):\n",
    "        invalidTickers.append(ticker)\n",
    "    else:\n",
    "        validTickers[ticker] = round(lowest, 2)\n",
    "\n",
    "\n",
    "todaysTickers = list(validTickers.keys())\n",
    "todaysTickers.sort()"
   ]
  },
  {
   "cell_type": "code",
   "execution_count": null,
   "metadata": {},
   "outputs": [],
   "source": [
    "print(len(todaysTickers))\n",
    "print(invalidTickers, len(invalidTickers))"
   ]
  },
  {
   "cell_type": "code",
   "execution_count": null,
   "metadata": {},
   "outputs": [],
   "source": [
    "print(validTickers)"
   ]
  },
  {
   "cell_type": "code",
   "execution_count": null,
   "metadata": {},
   "outputs": [],
   "source": [
    "# Use current this code box just for todays data. (optional)\n",
    "currentClosing = closingPrices.iloc[-1]\n",
    "currentClosing"
   ]
  },
  {
   "cell_type": "code",
   "execution_count": null,
   "metadata": {},
   "outputs": [],
   "source": [
    "#count the number of NaN values in each column\n",
    "currentClosing.isnull().sum()"
   ]
  },
  {
   "cell_type": "code",
   "execution_count": null,
   "metadata": {},
   "outputs": [],
   "source": [
    "# set target range to just todays data (optional)\n",
    "targetRange = currentClosing\n",
    "targetRange"
   ]
  },
  {
   "cell_type": "code",
   "execution_count": null,
   "metadata": {},
   "outputs": [],
   "source": [
    "# count the number of current closing prices greater/less than the minimum from validtickers for a given date. Check if the price is nan first.\n",
    "def counter(date):\n",
    "    count = 0.0\n",
    "    searchFor = []\n",
    "    antiSearch = []\n",
    "    total = len(todaysTickers)\n",
    "    for ticker in todaysTickers:\n",
    "        if math.isnan(date[ticker]):\n",
    "            total -=1\n",
    "        elif date[ticker] > validTickers[ticker]:\n",
    "            count += 1\n",
    "            searchFor.append(ticker)\n",
    "        else:\n",
    "            antiSearch.append(ticker)\n",
    "\n",
    "    percent = round(count/total, 4)\n",
    "    return [percent, searchFor]"
   ]
  },
  {
   "cell_type": "code",
   "execution_count": 15,
   "metadata": {},
   "outputs": [
    {
     "data": {
      "text/plain": [
       "41"
      ]
     },
     "execution_count": 15,
     "metadata": {},
     "output_type": "execute_result"
    }
   ],
   "source": [
    "# date range to create graph on\n",
    "targetRange = getSearchRange(\"2022-12-16 00:00:00-05:00\", \"2023-02-15 00:00:00-05:00\")\n",
    "targetRange.shape[0]"
   ]
  },
  {
   "cell_type": "code",
   "execution_count": null,
   "metadata": {},
   "outputs": [],
   "source": [
    "targetRange.tail()"
   ]
  },
  {
   "cell_type": "code",
   "execution_count": 16,
   "metadata": {},
   "outputs": [
    {
     "name": "stdout",
     "output_type": "stream",
     "text": [
      "[0.0146, 0.0159, 0.0276, 0.0489, 0.047, 0.0616, 0.0733, 0.0552, 0.0819, 0.0831, 0.0828, 0.1251, 0.1092, 0.1695, 0.1661, 0.1997, 0.248, 0.2862, 0.303, 0.2955, 0.2584, 0.2346, 0.2912, 0.3338, 0.331, 0.3416, 0.3726, 0.389, 0.3471, 0.4231, 0.4711, 0.528, 0.5018, 0.457, 0.4784, 0.4422, 0.3896, 0.3953, 0.437, 0.4261, 0.4423] 41\n"
     ]
    }
   ],
   "source": [
    "percents = []\n",
    "for i in range(targetRange.shape[0]):\n",
    "    percents.append(counter(targetRange.iloc[i])[0])\n",
    "print(percents, len(percents))"
   ]
  },
  {
   "cell_type": "code",
   "execution_count": null,
   "metadata": {},
   "outputs": [],
   "source": [
    "# for 1 day\n",
    "ret= counter(currentClosing)\n",
    "print(ret[1])"
   ]
  },
  {
   "cell_type": "code",
   "execution_count": 17,
   "metadata": {},
   "outputs": [
    {
     "data": {
      "image/png": "[encoded data removed]",
      "text/plain": [
       "<Figure size 640x480 with 1 Axes>"
      ]
     },
     "metadata": {},
     "output_type": "display_data"
    }
   ],
   "source": [
    "# Plot data\n",
    "\n",
    "ys = percents\n",
    "xs = range(len(ys))\n",
    "plt.plot(xs, ys)\n",
    "plt.show()\n",
    "plt.close()"
   ]
  },
  {
   "cell_type": "code",
   "execution_count": null,
   "metadata": {},
   "outputs": [],
   "source": [
    "print(searchFor, len(searchFor))"
   ]
  },
  {
   "cell_type": "code",
   "execution_count": null,
   "metadata": {},
   "outputs": [],
   "source": [
    "print(antiSearch, len(antiSearch))"
   ]
  },
  {
   "cell_type": "code",
   "execution_count": null,
   "metadata": {},
   "outputs": [],
   "source": [
    "df = pd.DataFrame(ret[1], columns=['ticker'])\n",
    "df.to_csv(\"output.csv\", index=False)"
   ]
  }
 ],
 "metadata": {
  "kernelspec": {
   "display_name": "Python 3",
   "language": "python",
   "name": "python3"
  },
  "language_info": {
   "codemirror_mode": {
    "name": "ipython",
    "version": 3
   },
   "file_extension": ".py",
   "mimetype": "text/x-python",
   "name": "python",
   "nbconvert_exporter": "python",
   "pygments_lexer": "ipython3",
   "version": "3.9.7"
  },
  "orig_nbformat": 4,
  "vscode": {
   "interpreter": {
    "hash": "aee8b7b246df8f9039afb4144a1f6fd8d2ca17a180786b69acc140d282b71a49"
   }
  }
 },
 "nbformat": 4,
 "nbformat_minor": 2
}
