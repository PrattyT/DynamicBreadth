{
 "cells": [
  {
   "cell_type": "code",
   "execution_count": 3,
   "metadata": {},
   "outputs": [],
   "source": [
    "import pandas as pd\n",
    "import json\n",
    "from typing import Union\n",
    "\n",
    "\"\"\"Calculate the Average True Range (ATR) of a stock.\"\"\"\n",
    "def calculate_atr(df: pd.DataFrame, period: int = 14) -> pd.Series:\n",
    "    \n",
    "    df['High-Low'] = df['High'] - df['Low']\n",
    "    df['High-PrevClose'] = abs(df['High'] - df['Close'].shift())\n",
    "    df['PrevClose-Low'] = abs(df['Close'].shift() - df['Low'])\n",
    "    df['TR'] = df[['High-Low', 'High-PrevClose', 'PrevClose-Low']].max(axis=1)\n",
    "    atr = df['TR'].rolling(window=period).mean()\n",
    "    return atr\n",
    "\n",
    "def count_stocks_within_atr(data: dict, date: Union[str, pd.Timestamp], atr_multiplier: float = 2) -> int:\n",
    "    count = 0\n",
    "    if isinstance(date, str):\n",
    "        date = pd.to_datetime(date)\n",
    "    for stock in data.keys():\n",
    "        if all(item in data[stock].columns for item in ['Close', 'ATR', '10-day High']) and date in data[stock].index:\n",
    "            close_price = data[stock].loc[date, 'Close']\n",
    "            high_price = data[stock].loc[date, '10-day High']\n",
    "            atr = data[stock].loc[date, 'ATR']\n",
    "            if close_price >= high_price - atr_multiplier * atr:\n",
    "                count += 1\n",
    "    return count\n",
    "\n",
    "# Load data\n",
    "with open(\"data.json\") as f:\n",
    "    data = json.load(f)\n",
    "\n",
    "# Convert data to DataFrames and calculate ATR and 10-day high\n",
    "for stock in data.keys():\n",
    "    data[stock] = pd.DataFrame(data[stock])\n",
    "    if 'Date' in data[stock].columns:\n",
    "        data[stock]['Date'] = pd.to_datetime(data[stock]['Date'])\n",
    "        data[stock].set_index('Date', inplace=True)\n",
    "    if all(item in data[stock].columns for item in ['High', 'Low', 'Close']):\n",
    "        data[stock]['ATR'] = calculate_atr(data[stock])\n",
    "        data[stock]['10-day High'] = data[stock]['High'].rolling(window='63D').max()\n",
    "\n",
    "\n"
   ]
  },
  {
   "cell_type": "code",
   "execution_count": 4,
   "metadata": {},
   "outputs": [],
   "source": [
    "import matplotlib.pyplot as plt\n",
    "\n",
    "# Calculate the number of stocks within 2 ATR of their 10-day high for each date\n",
    "dates = pd.date_range(start='2022-01-01', end='2023-12-31')\n",
    "counts = {date: count_stocks_within_atr(data, date) for date in dates}\n",
    "\n",
    "# Convert the counts dictionary to a pandas Series for easier plotting\n",
    "counts_series = pd.Series(counts, name=\"Count\")\n",
    "\n",
    "# Plot the data\n",
    "plt.figure(figsize=(10, 6))\n",
    "counts_series.plot(kind='line')\n",
    "plt.title(\"Number of stocks within 2 ATR of their 10-day high\")\n",
    "plt.xlabel(\"Date\")\n",
    "plt.ylabel(\"Count\")\n",
    "plt.grid(True)\n",
    "plt.show()"
   ]
  }
 ],
 "metadata": {
  "kernelspec": {
   "display_name": "Python 3",
   "language": "python",
   "name": "python3"
  },
  "language_info": {
   "codemirror_mode": {
    "name": "ipython",
    "version": 3
   },
   "file_extension": ".py",
   "mimetype": "text/x-python",
   "name": "python",
   "nbconvert_exporter": "python",
   "pygments_lexer": "ipython3",
   "version": "3.11.3"
  },
  "orig_nbformat": 4
 },
 "nbformat": 4,
 "nbformat_minor": 2
}
