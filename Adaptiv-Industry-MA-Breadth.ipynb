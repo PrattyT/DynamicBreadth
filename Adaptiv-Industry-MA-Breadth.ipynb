{
 "cells": [
  {
   "cell_type": "code",
   "execution_count": null,
   "metadata": {},
   "outputs": [],
   "source": [
    "#SETUP always run this\n",
    "import math\n",
    "import yfinance as yf\n",
    "import pandas as pd\n",
    "import numpy as np\n",
    "import matplotlib.pyplot as plt\n",
    "import json\n",
    "\n",
    "sectors = json.load(open(\"sectors.json\",'r'))\n",
    "closingPrices = pd.read_csv(\"latestClose.csv\")\n",
    "closingPrices = closingPrices.drop(columns=[\"Date\"])\n",
    "closingPrices.tail()\n",
    "\n",
    "allSectors = list(sectors.keys())\n",
    "allIndustries = []\n",
    "for sector in allSectors:\n",
    "    allIndustries.extend(list(sectors[sector].keys()))\n",
    "allIndustries = list(set(allIndustries))\n",
    "allTickers = []\n",
    "for sector in allSectors:\n",
    "    for industry in sectors[sector]:\n",
    "        allTickers.extend(sectors[sector][industry])\n",
    "allTickers = list(set(allTickers))\n",
    "\n",
    "industries = {}\n",
    "for sector in allSectors:\n",
    "    industries[sector] = list(sectors[sector].keys())\n",
    "\n",
    "\n",
    "\n",
    "print(\"sectors:\", allSectors)\n",
    "print( industries)"
   ]
  },
  {
   "cell_type": "code",
   "execution_count": null,
   "metadata": {},
   "outputs": [],
   "source": [
    "movingAverages = {}\n",
    "for sector in allSectors:\n",
    "    print(sector)\n",
    "    for industry in sectors[sector]:\n",
    "        count = 0\n",
    "        total = 0\n",
    "        for ticker in sectors[sector][industry]:\n",
    "            movingAverages[(ticker, 20)] = closingPrices[ticker][-20::].mean()\n",
    "            movingAverages[(ticker, 50)] = closingPrices[ticker][-50::].mean()\n",
    "            movingAverages[(ticker, 200)] = closingPrices[ticker][-200::].mean()"
   ]
  },
  {
   "cell_type": "code",
   "execution_count": null,
   "metadata": {},
   "outputs": [],
   "source": [
    "MAs = [20,50,200]\n",
    "counts = {}\n",
    "for sector in allSectors:\n",
    "    sectorCount = {}\n",
    "    sectorTotal = 0\n",
    "    print(sector)\n",
    "    for industry in sectors[sector]:\n",
    "        count = {}\n",
    "        total = 0\n",
    "        for ticker in sectors[sector][industry]:\n",
    "            sectorTotal +=1\n",
    "            total +=1\n",
    "            for ma in MAs:\n",
    "                if closingPrices[ticker].iloc[-1] > movingAverages[(ticker, ma)]:\n",
    "                    count[ma] = count.get(ma,0)+1\n",
    "                    sectorCount[ma] = sectorCount.get(ma,0)+1\n",
    "\n",
    "        percents = {i : count[i]/total for i in count}\n",
    "        counts[industry] = percents\n",
    "    sectorPercent = {i : sectorCount[i]/sectorTotal for i in sectorCount}\n",
    "    counts[sector] = sectorPercent"
   ]
  },
  {
   "cell_type": "code",
   "execution_count": null,
   "metadata": {},
   "outputs": [],
   "source": [
    "percents = {}\n",
    "for sector in allSectors:\n",
    "    percents[sector] = {}\n",
    "    percents[sector][\"Sector\"] = counts[sector]\n",
    "    for industry in sectors[sector]:\n",
    "        percents[sector][industry] = counts[industry]\n",
    "percents"
   ]
  }
 ],
 "metadata": {
  "kernelspec": {
   "display_name": "Python 3",
   "language": "python",
   "name": "python3"
  },
  "language_info": {
   "codemirror_mode": {
    "name": "ipython",
    "version": 3
   },
   "file_extension": ".py",
   "mimetype": "text/x-python",
   "name": "python",
   "nbconvert_exporter": "python",
   "pygments_lexer": "ipython3",
   "version": "3.9.7"
  },
  "orig_nbformat": 4,
  "vscode": {
   "interpreter": {
    "hash": "aee8b7b246df8f9039afb4144a1f6fd8d2ca17a180786b69acc140d282b71a49"
   }
  }
 },
 "nbformat": 4,
 "nbformat_minor": 2
}
