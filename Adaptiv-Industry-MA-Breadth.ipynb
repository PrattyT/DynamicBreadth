{
 "cells": [
  {
   "cell_type": "code",
   "execution_count": 25,
   "metadata": {},
   "outputs": [
    {
     "name": "stdout",
     "output_type": "stream",
     "text": [
      "sectors: ['Consumer Discretionary', 'Technology', 'Health Care', 'Financial', 'Real Estate', 'Communication Services', 'Consumer Staples', 'Industrial', 'Energy', 'Materials', 'Utilities']\n",
      "11\n",
      "3390\n"
     ]
    }
   ],
   "source": [
    "#SETUP always run this\n",
    "import math\n",
    "import yfinance as yf\n",
    "import pandas as pd\n",
    "import numpy as np\n",
    "import matplotlib.pyplot as plt\n",
    "import json\n",
    "\n",
    "sectors = json.load(open(\"sectors.json\",'r'))\n",
    "closingPrices = pd.read_csv(\"latestClose.csv\")\n",
    "closingPrices = closingPrices.drop(columns=[\"Date\"])\n",
    "closingPrices.tail()\n",
    "\n",
    "allSectors = list(sectors.keys())\n",
    "allIndustries = []\n",
    "for sector in allSectors:\n",
    "    allIndustries.extend(list(sectors[sector].keys()))\n",
    "allIndustries = list(set(allIndustries))\n",
    "allTickers = []\n",
    "for sector in allSectors:\n",
    "    for industry in sectors[sector]:\n",
    "        allTickers.extend(sectors[sector][industry])\n",
    "allTickers = list(set(allTickers))\n",
    "\n",
    "industries = {}\n",
    "for sector in allSectors:\n",
    "    industries[sector] = list(sectors[sector].keys())\n",
    "\n",
    "print(\"sectors:\", allSectors)\n",
    "print(len(industries))\n",
    "print(len(allTickers))"
   ]
  },
  {
   "cell_type": "code",
   "execution_count": null,
   "metadata": {},
   "outputs": [],
   "source": [
    "def getAllData(tickers):\n",
    "    anchorData = yf.download(tickers, start = \"2021-01-01\")\n",
    "    anchorData.head()\n",
    "    closingPrices = anchorData[\"Close\"]\n",
    "    closingPrices.to_csv(\"latestClose.csv\")\n",
    "    closingPrices = pd.read_csv(\"latestClose.csv\")\n",
    "    return closingPrices\n",
    "\n",
    "def getSearchRange(start, end):\n",
    "    return closingPrices[closingPrices['Date'].between(start, end)]\n",
    "\n",
    "closingPrices = getAllData(tickers)\n"
   ]
  },
  {
   "cell_type": "code",
   "execution_count": null,
   "metadata": {},
   "outputs": [],
   "source": [
    "industries"
   ]
  },
  {
   "cell_type": "code",
   "execution_count": null,
   "metadata": {},
   "outputs": [],
   "source": [
    "movingAverages = {}\n",
    "for sector in allSectors:\n",
    "    print(sector)\n",
    "    for industry in sectors[sector]:\n",
    "        count = 0\n",
    "        total = 0\n",
    "        for ticker in sectors[sector][industry]:\n",
    "            movingAverages[(ticker, 20)] = closingPrices[ticker][-20::].mean()\n",
    "            movingAverages[(ticker, 50)] = closingPrices[ticker][-50::].mean()\n",
    "            movingAverages[(ticker, 200)] = closingPrices[ticker][-200::].mean()"
   ]
  },
  {
   "cell_type": "code",
   "execution_count": null,
   "metadata": {},
   "outputs": [],
   "source": [
    "print(len(movingAverages), movingAverages)"
   ]
  },
  {
   "cell_type": "code",
   "execution_count": null,
   "metadata": {},
   "outputs": [],
   "source": [
    "MAs = [20,50,200]\n",
    "counts = {}\n",
    "for sector in allSectors:\n",
    "    sectorCount = {}\n",
    "    sectorTotal = 0\n",
    "    print(sector)\n",
    "    for industry in sectors[sector]:\n",
    "        count = {}\n",
    "        total = 0\n",
    "        for ticker in sectors[sector][industry]:\n",
    "            sectorTotal +=1\n",
    "            total +=1\n",
    "            for ma in MAs:\n",
    "                if closingPrices[ticker].iloc[-1] > movingAverages[(ticker, ma)]:\n",
    "                    count[ma] = count.get(ma,0)+1\n",
    "                    sectorCount[ma] = sectorCount.get(ma,0)+1\n",
    "\n",
    "        for i in count:\n",
    "            print(industry, i, count[i], total)\n",
    "\n",
    "        percents = {i : count[i]/total for i in count}\n",
    "        counts[industry] = percents\n",
    "    sectorPercent = {i : sectorCount[i]/sectorTotal for i in sectorCount}\n",
    "    counts[sector] = sectorPercent"
   ]
  },
  {
   "cell_type": "code",
   "execution_count": null,
   "metadata": {},
   "outputs": [],
   "source": [
    "percents = {}\n",
    "for sector in allSectors:\n",
    "    percents[sector] = {}\n",
    "    percents[sector][\"Sector\"] = counts[sector]\n",
    "    for industry in sectors[sector]:\n",
    "        percents[sector][industry] = counts[industry]\n",
    "percents"
   ]
  },
  {
   "cell_type": "code",
   "execution_count": null,
   "metadata": {},
   "outputs": [],
   "source": [
    "for sector in allSectors:\n",
    "    print (sector)"
   ]
  },
  {
   "cell_type": "code",
   "execution_count": null,
   "metadata": {},
   "outputs": [],
   "source": [
    "#Print Percents to a CSV. Organized by Sector, then Industry\n",
    "with open(\"percentages.csv\", \"w\") as f:\n",
    "    f.write(\"Moving Average Breadth Dashboard,20,50,200,\\n\")\n",
    "    f.write(\"\\n\")\n",
    "    for sector in allSectors:\n",
    "        f.write(sector.upper() + \",\")\n",
    "        for ma in MAs:\n",
    "            output = round(percents[sector][\"Sector\"][ma]*100,2)\n",
    "            f.write(str(output) + \",\")\n",
    "        f.write(\"\\n\")\n",
    "        for industry in sectors[sector]:\n",
    "            f.write(industry + \",\")\n",
    "            for ma in MAs:\n",
    "                if ma in percents[sector][industry]:\n",
    "                    output = round(percents[sector][industry][ma]*100,2)\n",
    "                    f.write(str(output) + \",\")\n",
    "                else:\n",
    "                    f.write(\"0,\")\n",
    "            f.write(\"\\n\")\n",
    "        f.write(\"\\n\")\n",
    "        \n",
    "    "
   ]
  },
  {
   "cell_type": "code",
   "execution_count": 29,
   "metadata": {},
   "outputs": [
    {
     "data": {
      "text/plain": [
       "{20: 0.1111111111111111, 50: 0.1111111111111111, 200: 0.1111111111111111}"
      ]
     },
     "execution_count": 29,
     "metadata": {},
     "output_type": "execute_result"
    }
   ],
   "source": [
    "percents[\"Technology\"][\"Renewable Energy Equipment\"]"
   ]
  },
  {
   "cell_type": "code",
   "execution_count": 30,
   "metadata": {},
   "outputs": [
    {
     "data": {
      "text/plain": [
       "['EVGO',\n",
       " 'FTCI',\n",
       " 'MAXN',\n",
       " 'TPIC',\n",
       " 'ALLG',\n",
       " 'BLDP',\n",
       " 'FCEL',\n",
       " 'ARRY',\n",
       " 'CSIQ',\n",
       " 'JKS',\n",
       " 'NOVA',\n",
       " 'RUN',\n",
       " 'SHLS',\n",
       " 'SPWR',\n",
       " 'ENPH',\n",
       " 'FSLR',\n",
       " 'PLUG',\n",
       " 'SEDG']"
      ]
     },
     "execution_count": 30,
     "metadata": {},
     "output_type": "execute_result"
    }
   ],
   "source": [
    "sectors[\"Technology\"][\"Renewable Energy Equipment\"]"
   ]
  }
 ],
 "metadata": {
  "kernelspec": {
   "display_name": "Python 3",
   "language": "python",
   "name": "python3"
  },
  "language_info": {
   "codemirror_mode": {
    "name": "ipython",
    "version": 3
   },
   "file_extension": ".py",
   "mimetype": "text/x-python",
   "name": "python",
   "nbconvert_exporter": "python",
   "pygments_lexer": "ipython3",
   "version": "3.9.7"
  },
  "orig_nbformat": 4,
  "vscode": {
   "interpreter": {
    "hash": "aee8b7b246df8f9039afb4144a1f6fd8d2ca17a180786b69acc140d282b71a49"
   }
  }
 },
 "nbformat": 4,
 "nbformat_minor": 2
}
