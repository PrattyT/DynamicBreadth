{
 "cells": [
  {
   "cell_type": "code",
   "execution_count": 1,
   "metadata": {},
   "outputs": [
    {
     "data": {
      "text/plain": [
       "3390"
      ]
     },
     "execution_count": 1,
     "metadata": {},
     "output_type": "execute_result"
    }
   ],
   "source": [
    "import math\n",
    "import yfinance as yf\n",
    "import pandas as pd\n",
    "import numpy as np\n",
    "import matplotlib.pyplot as plt\n",
    "import json\n",
    "allSectors = json.load(open(\"sectors.json\",'r'))\n",
    "\n",
    "#Get a list of all tickers\n",
    "tickers = []\n",
    "for sector in allSectors:\n",
    "    for industry in allSectors[sector]:\n",
    "        for ticker in allSectors[sector][industry]:\n",
    "            tickers.append(ticker)\n",
    "\n",
    "len(tickers)"
   ]
  },
  {
   "cell_type": "code",
   "execution_count": null,
   "metadata": {},
   "outputs": [],
   "source": [
    "def getAllData(tickers):\n",
    "    anchorData = yf.download(tickers, start = \"2020-01-01\", end=\"2023-03-01\")\n",
    "    anchorData.head()\n",
    "    closingPrices = anchorData[\"Close\"]\n",
    "    closingPrices.to_csv(\"latestClose.csv\")\n",
    "    closingPrices = pd.read_csv(\"latestClose.csv\")\n",
    "    return closingPrices\n",
    "\n",
    "def getSearchRange(start, end):\n",
    "    return closingPrices[closingPrices['Date'].between(start, end)]\n",
    "\n",
    "closingPrices = getAllData(tickers)\n"
   ]
  }
 ],
 "metadata": {
  "kernelspec": {
   "display_name": "Python 3",
   "language": "python",
   "name": "python3"
  },
  "language_info": {
   "codemirror_mode": {
    "name": "ipython",
    "version": 3
   },
   "file_extension": ".py",
   "mimetype": "text/x-python",
   "name": "python",
   "nbconvert_exporter": "python",
   "pygments_lexer": "ipython3",
   "version": "3.9.7"
  },
  "orig_nbformat": 4,
  "vscode": {
   "interpreter": {
    "hash": "aee8b7b246df8f9039afb4144a1f6fd8d2ca17a180786b69acc140d282b71a49"
   }
  }
 },
 "nbformat": 4,
 "nbformat_minor": 2
}
