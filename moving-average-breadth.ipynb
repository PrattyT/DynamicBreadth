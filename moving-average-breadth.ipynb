{
 "cells": [
  {
   "cell_type": "code",
   "execution_count": null,
   "metadata": {},
   "outputs": [],
   "source": [
    "#SETUP always run this\n",
    "import math\n",
    "import yfinance as yf\n",
    "import pandas as pd\n",
    "import numpy as np\n",
    "import matplotlib.pyplot as plt\n",
    "path = \"stockcharts.csv\"\n",
    "\n",
    "allData = pd.read_csv(path)\n",
    "\n",
    "#drop rows where sector is Nan\n",
    "allData = allData.dropna(subset=['Sector'])\n",
    "\n",
    "# Create a dictionary of all the sectors mapped to a list of all the industries in that sector mapped to a list of all the tickers in that industry\n",
    "sectors = {}\n",
    "for index, row in allData.iterrows():\n",
    "    if row['Sector'] not in sectors:\n",
    "        sectors[row['Sector']] = {}\n",
    "    if row['Industry'] not in sectors[row['Sector']]:\n",
    "        sectors[row['Sector']][row['Industry']] = []\n",
    "    sectors[row['Sector']][row['Industry']].append(row['Ticker'])\n",
    "\n",
    "\n",
    "allSectors = list(sectors.keys())\n",
    "allIndustries = []\n",
    "for sector in allSectors:\n",
    "    allIndustries.extend(list(sectors[sector].keys()))\n",
    "allIndustries = list(set(allIndustries))\n",
    "allTickers = []\n",
    "for sector in allSectors:\n",
    "    for industry in sectors[sector]:\n",
    "        allTickers.extend(sectors[sector][industry])\n",
    "allTickers = list(set(allTickers))\n",
    "\n",
    "\n"
   ]
  },
  {
   "cell_type": "code",
   "execution_count": null,
   "metadata": {},
   "outputs": [],
   "source": [
    "import json\n",
    "json.dump(sectors, open(\"sectors.json\",'w'))"
   ]
  },
  {
   "cell_type": "code",
   "execution_count": null,
   "metadata": {},
   "outputs": [],
   "source": [
    "test = json.load(open(\"sectors.json\",'r'))"
   ]
  },
  {
   "cell_type": "code",
   "execution_count": null,
   "metadata": {},
   "outputs": [],
   "source": [
    "sectors"
   ]
  },
  {
   "cell_type": "code",
   "execution_count": null,
   "metadata": {},
   "outputs": [],
   "source": [
    "print(allSectors, len(allSectors))\n",
    "print(allIndustries, len(allIndustries))\n",
    "print(allTickers, len(allTickers))"
   ]
  },
  {
   "cell_type": "code",
   "execution_count": null,
   "metadata": {},
   "outputs": [],
   "source": [
    "#download data and save Close price\n",
    "anchorData = yf.download(allTickers, start = \"2020-01-01\", end=\"2023-03-01\")\n",
    "anchorData.head()\n",
    "closingPrices = anchorData[\"Close\"]"
   ]
  },
  {
   "cell_type": "code",
   "execution_count": null,
   "metadata": {},
   "outputs": [],
   "source": [
    "closingPrices.tail()"
   ]
  },
  {
   "cell_type": "code",
   "execution_count": null,
   "metadata": {},
   "outputs": [],
   "source": [
    "closingPrices.to_csv(\"BreadthData.csv\")"
   ]
  },
  {
   "cell_type": "code",
   "execution_count": null,
   "metadata": {},
   "outputs": [],
   "source": [
    "\n",
    "closingPrices = pd.read_csv(\"BreadthData.csv\")\n",
    "closingPrices.tail()"
   ]
  },
  {
   "cell_type": "code",
   "execution_count": null,
   "metadata": {},
   "outputs": [],
   "source": [
    "#remove date column from closing prices\n",
    "closingPrices = closingPrices.drop(columns=[\"Date\"])"
   ]
  },
  {
   "cell_type": "code",
   "execution_count": null,
   "metadata": {},
   "outputs": [],
   "source": [
    "\n",
    "movingAverages = {}\n",
    "for sector in allSectors:\n",
    "    print(sector)\n",
    "    for industry in sectors[sector]:\n",
    "        count = 0\n",
    "        total = 0\n",
    "        for ticker in sectors[sector][industry]:\n",
    "            movingAverages[(ticker, 20)] = closingPrices[ticker][-20::].mean()\n",
    "            movingAverages[(ticker, 50)] = closingPrices[ticker][-50::].mean()\n",
    "            movingAverages[(ticker, 200)] = closingPrices[ticker][-200::].mean()\n",
    "\n"
   ]
  },
  {
   "cell_type": "code",
   "execution_count": null,
   "metadata": {},
   "outputs": [],
   "source": [
    "MAs = [20,50,200]\n",
    "counts = {}\n",
    "for sector in allSectors:\n",
    "    sectorCount = {}\n",
    "    sectorTotal = 0\n",
    "    print(sector)\n",
    "    for industry in sectors[sector]:\n",
    "        count = {}\n",
    "        total = 0\n",
    "        for ticker in sectors[sector][industry]:\n",
    "            sectorTotal +=1\n",
    "            total +=1\n",
    "            for ma in MAs:\n",
    "                if closingPrices[ticker].iloc[-1] > movingAverages[(ticker, ma)]:\n",
    "                    count[ma] = count.get(ma,0)+1\n",
    "                    sectorCount[ma] = sectorCount.get(ma,0)+1\n",
    "\n",
    "        percents = {i : count[i]/total for i in count}\n",
    "        counts[industry] = percents\n",
    "    sectorPercent = {i : sectorCount[i]/sectorTotal for i in sectorCount}\n",
    "    counts[sector] = sectorPercent\n",
    "    \n"
   ]
  },
  {
   "cell_type": "code",
   "execution_count": null,
   "metadata": {},
   "outputs": [],
   "source": [
    "counts"
   ]
  },
  {
   "cell_type": "code",
   "execution_count": null,
   "metadata": {},
   "outputs": [],
   "source": [
    "#Create a dictionary of sectors mapped to a dictionary of industries mapped to their counts\n",
    "percents = {}\n",
    "for sector in allSectors:\n",
    "    percents[sector] = {}\n",
    "    percents[sector][\"Sector\"] = counts[sector]\n",
    "    for industry in sectors[sector]:\n",
    "        percents[sector][industry] = counts[industry]\n",
    "    \n",
    "\n",
    "percents\n"
   ]
  },
  {
   "cell_type": "code",
   "execution_count": null,
   "metadata": {},
   "outputs": [],
   "source": [
    "#Create a dictionary of sectors mapped to a list of their industries\n",
    "industries = {}\n",
    "for sector in allSectors:\n",
    "    industries[sector] = list(sectors[sector].keys())\n",
    "\n",
    "industries"
   ]
  }
 ],
 "metadata": {
  "kernelspec": {
   "display_name": "Python 3",
   "language": "python",
   "name": "python3"
  },
  "language_info": {
   "codemirror_mode": {
    "name": "ipython",
    "version": 3
   },
   "file_extension": ".py",
   "mimetype": "text/x-python",
   "name": "python",
   "nbconvert_exporter": "python",
   "pygments_lexer": "ipython3",
   "version": "3.9.7 (default, Sep  3 2021, 12:37:55) \n[Clang 12.0.5 (clang-1205.0.22.9)]"
  },
  "orig_nbformat": 4,
  "vscode": {
   "interpreter": {
    "hash": "aee8b7b246df8f9039afb4144a1f6fd8d2ca17a180786b69acc140d282b71a49"
   }
  }
 },
 "nbformat": 4,
 "nbformat_minor": 2
}
