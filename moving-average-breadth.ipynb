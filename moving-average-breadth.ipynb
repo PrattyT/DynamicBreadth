{
 "cells": [
  {
   "cell_type": "code",
   "execution_count": null,
   "metadata": {},
   "outputs": [],
   "source": [
    "#SETUP always run this\n",
    "import math\n",
    "import yfinance as yf\n",
    "import pandas as pd\n",
    "import numpy as np\n",
    "import matplotlib.pyplot as plt\n",
    "path = \"stockcharts.csv\"\n",
    "\n",
    "allData = pd.read_csv(path)\n",
    "\n",
    "#drop rows where sector is Nan\n",
    "allData = allData.dropna(subset=['Sector'])\n",
    "\n",
    "# Create a dictionary of all the sectors mapped to a list of all the industries in that sector mapped to a list of all the tickers in that industry\n",
    "sectors = {}\n",
    "for index, row in allData.iterrows():\n",
    "    if row['Sector'] not in sectors:\n",
    "        sectors[row['Sector']] = {}\n",
    "    if row['Industry'] not in sectors[row['Sector']]:\n",
    "        sectors[row['Sector']][row['Industry']] = []\n",
    "    sectors[row['Sector']][row['Industry']].append(row['Ticker'])\n",
    "\n",
    "\n",
    "allSectors = list(sectors.keys())\n",
    "allIndustries = []\n",
    "for sector in allSectors:\n",
    "    allIndustries.extend(list(sectors[sector].keys()))\n",
    "allIndustries = list(set(allIndustries))\n",
    "allTickers = []\n",
    "for sector in allSectors:\n",
    "    for industry in sectors[sector]:\n",
    "        allTickers.extend(sectors[sector][industry])\n",
    "allTickers = list(set(allTickers))\n",
    "\n",
    "\n"
   ]
  },
  {
   "cell_type": "code",
   "execution_count": 61,
   "metadata": {},
   "outputs": [],
   "source": [
    "import json\n",
    "json.dump(sectors, open(\"sectors.json\",'w'))"
   ]
  },
  {
   "cell_type": "code",
   "execution_count": 62,
   "metadata": {},
   "outputs": [],
   "source": [
    "test = json.load(open(\"sectors.json\",'r'))"
   ]
  },
  {
   "cell_type": "code",
   "execution_count": 64,
   "metadata": {},
   "outputs": [
    {
     "data": {
      "text/plain": [
       "True"
      ]
     },
     "execution_count": 64,
     "metadata": {},
     "output_type": "execute_result"
    }
   ],
   "source": [
    "test == sectors"
   ]
  },
  {
   "cell_type": "code",
   "execution_count": null,
   "metadata": {},
   "outputs": [],
   "source": [
    "print(allSectors, len(allSectors))\n",
    "print(allIndustries, len(allIndustries))\n",
    "print(allTickers, len(allTickers))"
   ]
  },
  {
   "cell_type": "code",
   "execution_count": 60,
   "metadata": {},
   "outputs": [
    {
     "name": "stdout",
     "output_type": "stream",
     "text": [
      "[*********************100%***********************]  3390 of 3390 completed\n",
      "\n",
      "26 Failed downloads:\n",
      "- GLOP/PA: No timezone found, symbol may be delisted\n",
      "- LGF/B: No timezone found, symbol may be delisted\n",
      "- LGF/A: No timezone found, symbol may be delisted\n",
      "- MS/PA: No timezone found, symbol may be delisted\n",
      "- BRK/A: No timezone found, symbol may be delisted\n",
      "- BML/PL: No timezone found, symbol may be delisted\n",
      "- C/PK: No timezone found, symbol may be delisted\n",
      "- WFC/PL: No timezone found, symbol may be delisted\n",
      "- AKO/B: No timezone found, symbol may be delisted\n",
      "- MKC/V: No timezone found, symbol may be delisted\n",
      "- EBR/B: No timezone found, symbol may be delisted\n",
      "- AKO/A: No timezone found, symbol may be delisted\n",
      "- CDEV: No timezone found, symbol may be delisted\n",
      "- CIG/C: No timezone found, symbol may be delisted\n",
      "- BF/A: No timezone found, symbol may be delisted\n",
      "- CWEN/A: No timezone found, symbol may be delisted\n",
      "- PBR/A: No timezone found, symbol may be delisted\n",
      "- NFGFF: No timezone found, symbol may be delisted\n",
      "- BF/B: No timezone found, symbol may be delisted\n",
      "- HEI/A: No timezone found, symbol may be delisted\n",
      "- ALL/PB: No timezone found, symbol may be delisted\n",
      "- GRP/U: No timezone found, symbol may be delisted\n",
      "- LEN/B: No timezone found, symbol may be delisted\n",
      "- MOG/A: No timezone found, symbol may be delisted\n",
      "- BRK/B: No timezone found, symbol may be delisted\n",
      "- GEF/B: No timezone found, symbol may be delisted\n"
     ]
    }
   ],
   "source": [
    "#download data and save Close price\n",
    "anchorData = yf.download(allTickers, start = \"2020-01-01\", end=\"2023-03-01\")\n",
    "anchorData.head()\n",
    "closingPrices = anchorData[\"Close\"]"
   ]
  },
  {
   "cell_type": "code",
   "execution_count": null,
   "metadata": {},
   "outputs": [],
   "source": [
    "closingPrices.tail()"
   ]
  },
  {
   "cell_type": "code",
   "execution_count": null,
   "metadata": {},
   "outputs": [],
   "source": [
    "closingPrices.to_csv(\"BreadthData.csv\")"
   ]
  },
  {
   "cell_type": "code",
   "execution_count": 59,
   "metadata": {},
   "outputs": [
    {
     "data": {
      "text/html": [
       "<div>\n",
       "<style scoped>\n",
       "    .dataframe tbody tr th:only-of-type {\n",
       "        vertical-align: middle;\n",
       "    }\n",
       "\n",
       "    .dataframe tbody tr th {\n",
       "        vertical-align: top;\n",
       "    }\n",
       "\n",
       "    .dataframe thead th {\n",
       "        text-align: right;\n",
       "    }\n",
       "</style>\n",
       "<table border=\"1\" class=\"dataframe\">\n",
       "  <thead>\n",
       "    <tr style=\"text-align: right;\">\n",
       "      <th></th>\n",
       "      <th>Date</th>\n",
       "      <th>A</th>\n",
       "      <th>AA</th>\n",
       "      <th>AAL</th>\n",
       "      <th>AAN</th>\n",
       "      <th>AAON</th>\n",
       "      <th>AAP</th>\n",
       "      <th>AAPL</th>\n",
       "      <th>AAT</th>\n",
       "      <th>AAWW</th>\n",
       "      <th>...</th>\n",
       "      <th>ZNH</th>\n",
       "      <th>ZNTL</th>\n",
       "      <th>ZS</th>\n",
       "      <th>ZTO</th>\n",
       "      <th>ZTS</th>\n",
       "      <th>ZUMZ</th>\n",
       "      <th>ZUO</th>\n",
       "      <th>ZWS</th>\n",
       "      <th>ZYME</th>\n",
       "      <th>ZYXI</th>\n",
       "    </tr>\n",
       "  </thead>\n",
       "  <tbody>\n",
       "    <tr>\n",
       "      <th>789</th>\n",
       "      <td>2023-02-21 00:00:00-05:00</td>\n",
       "      <td>143.419998</td>\n",
       "      <td>48.070000</td>\n",
       "      <td>15.69</td>\n",
       "      <td>13.85</td>\n",
       "      <td>77.570000</td>\n",
       "      <td>144.190002</td>\n",
       "      <td>148.479996</td>\n",
       "      <td>25.480000</td>\n",
       "      <td>101.739998</td>\n",
       "      <td>...</td>\n",
       "      <td>33.919998</td>\n",
       "      <td>18.549999</td>\n",
       "      <td>127.839996</td>\n",
       "      <td>24.920000</td>\n",
       "      <td>169.839996</td>\n",
       "      <td>24.090000</td>\n",
       "      <td>8.62</td>\n",
       "      <td>22.750000</td>\n",
       "      <td>8.57</td>\n",
       "      <td>12.61</td>\n",
       "    </tr>\n",
       "    <tr>\n",
       "      <th>790</th>\n",
       "      <td>2023-02-22 00:00:00-05:00</td>\n",
       "      <td>142.080002</td>\n",
       "      <td>48.980000</td>\n",
       "      <td>15.56</td>\n",
       "      <td>14.14</td>\n",
       "      <td>78.029999</td>\n",
       "      <td>143.619995</td>\n",
       "      <td>148.910004</td>\n",
       "      <td>25.740000</td>\n",
       "      <td>101.820000</td>\n",
       "      <td>...</td>\n",
       "      <td>33.880001</td>\n",
       "      <td>19.490000</td>\n",
       "      <td>132.160004</td>\n",
       "      <td>24.930000</td>\n",
       "      <td>166.429993</td>\n",
       "      <td>24.320000</td>\n",
       "      <td>8.70</td>\n",
       "      <td>22.959999</td>\n",
       "      <td>8.57</td>\n",
       "      <td>12.54</td>\n",
       "    </tr>\n",
       "    <tr>\n",
       "      <th>791</th>\n",
       "      <td>2023-02-23 00:00:00-05:00</td>\n",
       "      <td>143.199997</td>\n",
       "      <td>47.959999</td>\n",
       "      <td>15.87</td>\n",
       "      <td>14.15</td>\n",
       "      <td>80.370003</td>\n",
       "      <td>142.009995</td>\n",
       "      <td>149.399994</td>\n",
       "      <td>25.809999</td>\n",
       "      <td>101.779999</td>\n",
       "      <td>...</td>\n",
       "      <td>34.099998</td>\n",
       "      <td>19.219999</td>\n",
       "      <td>133.500000</td>\n",
       "      <td>24.740000</td>\n",
       "      <td>169.500000</td>\n",
       "      <td>24.580000</td>\n",
       "      <td>8.84</td>\n",
       "      <td>23.110001</td>\n",
       "      <td>8.63</td>\n",
       "      <td>12.63</td>\n",
       "    </tr>\n",
       "    <tr>\n",
       "      <th>792</th>\n",
       "      <td>2023-02-24 00:00:00-05:00</td>\n",
       "      <td>NaN</td>\n",
       "      <td>46.450001</td>\n",
       "      <td>15.56</td>\n",
       "      <td>14.13</td>\n",
       "      <td>81.470001</td>\n",
       "      <td>NaN</td>\n",
       "      <td>NaN</td>\n",
       "      <td>25.469999</td>\n",
       "      <td>101.750000</td>\n",
       "      <td>...</td>\n",
       "      <td>33.939999</td>\n",
       "      <td>18.660000</td>\n",
       "      <td>130.880005</td>\n",
       "      <td>24.450001</td>\n",
       "      <td>166.330002</td>\n",
       "      <td>NaN</td>\n",
       "      <td>8.62</td>\n",
       "      <td>22.969999</td>\n",
       "      <td>NaN</td>\n",
       "      <td>NaN</td>\n",
       "    </tr>\n",
       "    <tr>\n",
       "      <th>793</th>\n",
       "      <td>2023-02-27 00:00:00-05:00</td>\n",
       "      <td>142.179993</td>\n",
       "      <td>48.040001</td>\n",
       "      <td>15.63</td>\n",
       "      <td>14.28</td>\n",
       "      <td>81.489998</td>\n",
       "      <td>140.630005</td>\n",
       "      <td>147.919998</td>\n",
       "      <td>25.450001</td>\n",
       "      <td>101.360001</td>\n",
       "      <td>...</td>\n",
       "      <td>35.139999</td>\n",
       "      <td>18.750000</td>\n",
       "      <td>131.839996</td>\n",
       "      <td>24.200001</td>\n",
       "      <td>165.470001</td>\n",
       "      <td>23.200001</td>\n",
       "      <td>8.56</td>\n",
       "      <td>23.010000</td>\n",
       "      <td>8.38</td>\n",
       "      <td>12.83</td>\n",
       "    </tr>\n",
       "  </tbody>\n",
       "</table>\n",
       "<p>5 rows × 3391 columns</p>\n",
       "</div>"
      ],
      "text/plain": [
       "                          Date           A         AA    AAL    AAN  \\\n",
       "789  2023-02-21 00:00:00-05:00  143.419998  48.070000  15.69  13.85   \n",
       "790  2023-02-22 00:00:00-05:00  142.080002  48.980000  15.56  14.14   \n",
       "791  2023-02-23 00:00:00-05:00  143.199997  47.959999  15.87  14.15   \n",
       "792  2023-02-24 00:00:00-05:00         NaN  46.450001  15.56  14.13   \n",
       "793  2023-02-27 00:00:00-05:00  142.179993  48.040001  15.63  14.28   \n",
       "\n",
       "          AAON         AAP        AAPL        AAT        AAWW  ...        ZNH  \\\n",
       "789  77.570000  144.190002  148.479996  25.480000  101.739998  ...  33.919998   \n",
       "790  78.029999  143.619995  148.910004  25.740000  101.820000  ...  33.880001   \n",
       "791  80.370003  142.009995  149.399994  25.809999  101.779999  ...  34.099998   \n",
       "792  81.470001         NaN         NaN  25.469999  101.750000  ...  33.939999   \n",
       "793  81.489998  140.630005  147.919998  25.450001  101.360001  ...  35.139999   \n",
       "\n",
       "          ZNTL          ZS        ZTO         ZTS       ZUMZ   ZUO        ZWS  \\\n",
       "789  18.549999  127.839996  24.920000  169.839996  24.090000  8.62  22.750000   \n",
       "790  19.490000  132.160004  24.930000  166.429993  24.320000  8.70  22.959999   \n",
       "791  19.219999  133.500000  24.740000  169.500000  24.580000  8.84  23.110001   \n",
       "792  18.660000  130.880005  24.450001  166.330002        NaN  8.62  22.969999   \n",
       "793  18.750000  131.839996  24.200001  165.470001  23.200001  8.56  23.010000   \n",
       "\n",
       "     ZYME   ZYXI  \n",
       "789  8.57  12.61  \n",
       "790  8.57  12.54  \n",
       "791  8.63  12.63  \n",
       "792   NaN    NaN  \n",
       "793  8.38  12.83  \n",
       "\n",
       "[5 rows x 3391 columns]"
      ]
     },
     "execution_count": 59,
     "metadata": {},
     "output_type": "execute_result"
    }
   ],
   "source": [
    "\n",
    "closingPrices = pd.read_csv(\"BreadthData.csv\")\n",
    "closingPrices.tail()"
   ]
  },
  {
   "cell_type": "code",
   "execution_count": null,
   "metadata": {},
   "outputs": [],
   "source": [
    "#remove date column from closing prices\n",
    "closingPrices = closingPrices.drop(columns=[\"Date\"])"
   ]
  },
  {
   "cell_type": "code",
   "execution_count": null,
   "metadata": {},
   "outputs": [],
   "source": [
    "# For each ticker, calculate the 20,50,200 day moving average\n",
    "movingAverages = {}\n",
    "for ticker in closingPrices:\n",
    "    movingAverages[(ticker, 20)] = closingPrices[ticker][-20::].mean()\n",
    "    movingAverages[(ticker, 50)] = closingPrices[ticker][-50::].mean()\n",
    "    movingAverages[(ticker, 200)] = closingPrices[ticker][-200::].mean()"
   ]
  },
  {
   "cell_type": "code",
   "execution_count": null,
   "metadata": {},
   "outputs": [],
   "source": []
  },
  {
   "cell_type": "code",
   "execution_count": null,
   "metadata": {},
   "outputs": [],
   "source": [
    "#display the tickers in each industry\n",
    "movingAverages = {}\n",
    "\n",
    "for sector in allSectors:\n",
    "    print(sector)\n",
    "    for industry in sectors[sector]:\n",
    "        count = 0\n",
    "        total = 0\n",
    "        for ticker in sectors[sector][industry]:\n",
    "            print(\"ticker\", ticker)\n",
    "            movingAverages[(ticker, 20)] = closingPrices[ticker][-20::].mean()\n",
    "            movingAverages[(ticker, 50)] = closingPrices[ticker][-50::].mean()\n",
    "            movingAverages[(ticker, 200)] = closingPrices[ticker][-200::].mean()\n",
    "\n"
   ]
  },
  {
   "cell_type": "code",
   "execution_count": null,
   "metadata": {},
   "outputs": [],
   "source": [
    "MAs = [20,50,200]\n",
    "counts = {}\n",
    "for sector in allSectors:\n",
    "    print(sector)\n",
    "    for industry in sectors[sector]:\n",
    "        count = {}\n",
    "        total = 0\n",
    "        for ticker in sectors[sector][industry]:\n",
    "            total +=1\n",
    "            for ma in MAs:\n",
    "                if closingPrices[ticker][-1] > movingAverages[(ticker, ma)]:\n",
    "                    count[ma] = count.get(ma,0)+1\n",
    "        counts[industry] = count\n",
    "\n",
    "    \n"
   ]
  },
  {
   "cell_type": "code",
   "execution_count": null,
   "metadata": {},
   "outputs": [],
   "source": [
    "SectorToIndustry = {}\n",
    "for i in range(len(allData)):\n",
    "    sector = allData.iloc[i][\"Sector\"]\n",
    "    industry = allData.iloc[i][\"Industry\"]\n",
    "    if sector not in SectorToIndustry:\n",
    "        SectorToIndustry[sector] = [industry]\n",
    "    else:\n",
    "        if industry not in SectorToIndustry[sector]:\n",
    "            SectorToIndustry[sector].append(industry)\n",
    "\n"
   ]
  },
  {
   "cell_type": "code",
   "execution_count": null,
   "metadata": {},
   "outputs": [],
   "source": []
  }
 ],
 "metadata": {
  "kernelspec": {
   "display_name": "Python 3",
   "language": "python",
   "name": "python3"
  },
  "language_info": {
   "codemirror_mode": {
    "name": "ipython",
    "version": 3
   },
   "file_extension": ".py",
   "mimetype": "text/x-python",
   "name": "python",
   "nbconvert_exporter": "python",
   "pygments_lexer": "ipython3",
   "version": "3.9.7"
  },
  "orig_nbformat": 4,
  "vscode": {
   "interpreter": {
    "hash": "aee8b7b246df8f9039afb4144a1f6fd8d2ca17a180786b69acc140d282b71a49"
   }
  }
 },
 "nbformat": 4,
 "nbformat_minor": 2
}
