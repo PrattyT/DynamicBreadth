{
 "cells": [
  {
   "cell_type": "code",
   "execution_count": 1,
   "metadata": {},
   "outputs": [
    {
     "name": "stdout",
     "output_type": "stream",
     "text": [
      "3157\n"
     ]
    }
   ],
   "source": [
    "#SETUP always run this\n",
    "import math\n",
    "import yfinance as yf\n",
    "import pandas as pd\n",
    "import numpy as np\n",
    "import matplotlib.pyplot as plt\n",
    "path = \"finviz.csv\"\n",
    "\n",
    "def get_column_from_csv(file, col_name):\n",
    "    try:\n",
    "        df = pd.read_csv(file)\n",
    "    except FileNotFoundError:\n",
    "        print(\"File Doesn't Exist\")\n",
    "    else:\n",
    "        return df[col_name]\n",
    "\n",
    "\n",
    "tickers = get_column_from_csv(path, \"Ticker\")\n",
    "tickers = tickers.tolist()\n",
    "print(len(tickers))\n",
    "\n"
   ]
  },
  {
   "cell_type": "code",
   "execution_count": 2,
   "metadata": {},
   "outputs": [
    {
     "name": "stdout",
     "output_type": "stream",
     "text": [
      "[*********************100%***********************]  3157 of 3157 completed\n"
     ]
    }
   ],
   "source": [
    "#Optional - RUN THIS ONCE A DAY TO GET THE LATEST DATA. Takes a while to run.\n",
    "def getAllData(tickers):\n",
    "    anchorData = yf.download(tickers)\n",
    "    anchorData.head()\n",
    "    closingPrices = anchorData[\"Close\"]\n",
    "    closingPrices.to_csv(\"AllClosingPricesToday.csv\")\n",
    "    closingPrices = pd.read_csv(\"AllClosingPricesToday.csv\")\n",
    "    return closingPrices\n",
    "\n",
    "def getSearchRange(start, end):\n",
    "    return closingPrices[closingPrices['Date'].between(start, end)]\n",
    "\n",
    "closingPrices = getAllData(tickers)\n"
   ]
  },
  {
   "cell_type": "code",
   "execution_count": 5,
   "metadata": {},
   "outputs": [],
   "source": [
    "# Read in closing prices from saved CSV file if needed\n",
    "closingPrices = pd.read_csv(\"AllClosingPricesToday.csv\")\n",
    "closingPrices.tail()\n",
    "\n",
    "def getSearchRange(start, end):\n",
    "    return closingPrices[closingPrices['Date'].between(start, end)]\n"
   ]
  },
  {
   "cell_type": "code",
   "execution_count": 12,
   "metadata": {},
   "outputs": [],
   "source": [
    "# Run this this cell if we want to look at stocks releative to a low point. No harm in running even if not used. \n",
    "def getMinPrice(tickers, start, end):\n",
    "    validTickers = {}\n",
    "    invalidTickers = []\n",
    "    searchRange = getSearchRange(start, end)\n",
    "    for ticker in tickers:\n",
    "        \n",
    "        if ticker not in searchRange:\n",
    "            invalidTickers.append(ticker)\n",
    "            continue\n",
    "        lowest = min(searchRange[ticker])\n",
    "\n",
    "        if math.isnan(lowest):\n",
    "            invalidTickers.append(ticker)\n",
    "        else:\n",
    "            validTickers[ticker] = round(lowest, 2)\n",
    "\n",
    "\n",
    "    todaysTickers = list(validTickers.keys())\n",
    "    todaysTickers.sort()\n",
    "    return validTickers, invalidTickers, todaysTickers\n"
   ]
  },
  {
   "cell_type": "code",
   "execution_count": 3,
   "metadata": {},
   "outputs": [],
   "source": [
    "# Run this this cell if we want to look at stocks relative to a high point. No harm in running even if not used. \n",
    "def getMaxPrice(tickers, start, end):\n",
    "    validTickers = {}\n",
    "    invalidTickers = []\n",
    "    searchRange = getSearchRange(start, end)\n",
    "    for ticker in tickers:\n",
    "        \n",
    "        if ticker not in searchRange:\n",
    "            invalidTickers.append(ticker)\n",
    "            continue\n",
    "        lowest = max(searchRange[ticker])\n",
    "\n",
    "        if math.isnan(lowest):\n",
    "            invalidTickers.append(ticker)\n",
    "        else:\n",
    "            validTickers[ticker] = round(lowest, 2)\n",
    "\n",
    "\n",
    "    todaysTickers = list(validTickers.keys())\n",
    "    todaysTickers.sort()\n",
    "    return validTickers, invalidTickers, todaysTickers"
   ]
  },
  {
   "cell_type": "code",
   "execution_count": 4,
   "metadata": {},
   "outputs": [
    {
     "name": "stdout",
     "output_type": "stream",
     "text": [
      "3139\n",
      "['ACAQ', 'AGNCL', 'AMPX', 'AMV', 'APE', 'BHVN', 'CRBG', 'FG', 'GBTG', 'GEHC', 'GEHCV', 'MBC', 'MSBIP', 'PRME', 'RBT', 'RXO', 'SVIIU', 'XPER'] 18\n"
     ]
    }
   ],
   "source": [
    "#Search Range for Greater than - ONLY RUN OF OF THESE AT A TIME. The data gets overwritten.\n",
    "validTickers, invalidTickers, todaysTickers = getMaxPrice(tickers, \"2022-08-01 00:00:00-05:00\", \"2022-08-30 00:00:00-05:00\")\n",
    "print(len(todaysTickers))\n",
    "print(invalidTickers, len(invalidTickers))\n"
   ]
  },
  {
   "cell_type": "code",
   "execution_count": null,
   "metadata": {},
   "outputs": [],
   "source": [
    "#Search Range for Less than - ONLY RUN OF OF THESE AT A TIME. The data gets overwritten.\n",
    "validTickers, invalidTickers, todaysTickers = getMaxPrice(tickers, \"2022-05-01 00:00:00-05:00\", \"2022-07-15 00:00:00-05:00\")\n",
    "print(len(todaysTickers))\n",
    "print(invalidTickers, len(invalidTickers))"
   ]
  },
  {
   "cell_type": "code",
   "execution_count": 5,
   "metadata": {},
   "outputs": [],
   "source": [
    "# Just needs to be run once to ensure the cell is active. \n",
    "def counter(date):\n",
    "    count = 0.0\n",
    "    searchFor = []\n",
    "    antiSearch = []\n",
    "    total = len(todaysTickers)\n",
    "    for ticker in todaysTickers:\n",
    "        if math.isnan(date[ticker]):\n",
    "            total -=1\n",
    "        elif date[ticker] > validTickers[ticker]:\n",
    "            count += 1\n",
    "            searchFor.append(ticker)\n",
    "        else:\n",
    "            antiSearch.append(ticker)\n",
    "\n",
    "    percent = round(count/total, 4)\n",
    "    return [percent, searchFor]"
   ]
  },
  {
   "cell_type": "code",
   "execution_count": 6,
   "metadata": {},
   "outputs": [
    {
     "name": "stdout",
     "output_type": "stream",
     "text": [
      "118\n"
     ]
    },
    {
     "data": {
      "text/html": [
       "<div>\n",
       "<style scoped>\n",
       "    .dataframe tbody tr th:only-of-type {\n",
       "        vertical-align: middle;\n",
       "    }\n",
       "\n",
       "    .dataframe tbody tr th {\n",
       "        vertical-align: top;\n",
       "    }\n",
       "\n",
       "    .dataframe thead th {\n",
       "        text-align: right;\n",
       "    }\n",
       "</style>\n",
       "<table border=\"1\" class=\"dataframe\">\n",
       "  <thead>\n",
       "    <tr style=\"text-align: right;\">\n",
       "      <th></th>\n",
       "      <th>Date</th>\n",
       "      <th>A</th>\n",
       "      <th>AA</th>\n",
       "      <th>AAC</th>\n",
       "      <th>AADI</th>\n",
       "      <th>AAL</th>\n",
       "      <th>AAN</th>\n",
       "      <th>AAON</th>\n",
       "      <th>AAP</th>\n",
       "      <th>AAPL</th>\n",
       "      <th>...</th>\n",
       "      <th>ZM</th>\n",
       "      <th>ZNTL</th>\n",
       "      <th>ZS</th>\n",
       "      <th>ZT</th>\n",
       "      <th>ZTR</th>\n",
       "      <th>ZTS</th>\n",
       "      <th>ZUMZ</th>\n",
       "      <th>ZUO</th>\n",
       "      <th>ZWS</th>\n",
       "      <th>ZYXI</th>\n",
       "    </tr>\n",
       "  </thead>\n",
       "  <tbody>\n",
       "    <tr>\n",
       "      <th>15386</th>\n",
       "      <td>2023-02-15 00:00:00-05:00</td>\n",
       "      <td>151.750000</td>\n",
       "      <td>48.410000</td>\n",
       "      <td>10.20</td>\n",
       "      <td>11.87</td>\n",
       "      <td>16.799999</td>\n",
       "      <td>15.07</td>\n",
       "      <td>78.959999</td>\n",
       "      <td>151.289993</td>\n",
       "      <td>155.330002</td>\n",
       "      <td>...</td>\n",
       "      <td>80.769997</td>\n",
       "      <td>20.370001</td>\n",
       "      <td>142.770004</td>\n",
       "      <td>10.050</td>\n",
       "      <td>6.76</td>\n",
       "      <td>175.020004</td>\n",
       "      <td>25.530001</td>\n",
       "      <td>9.19</td>\n",
       "      <td>24.379999</td>\n",
       "      <td>12.97</td>\n",
       "    </tr>\n",
       "    <tr>\n",
       "      <th>15387</th>\n",
       "      <td>2023-02-16 00:00:00-05:00</td>\n",
       "      <td>148.279999</td>\n",
       "      <td>48.770000</td>\n",
       "      <td>10.22</td>\n",
       "      <td>11.70</td>\n",
       "      <td>16.389999</td>\n",
       "      <td>14.87</td>\n",
       "      <td>78.680000</td>\n",
       "      <td>150.190002</td>\n",
       "      <td>153.710007</td>\n",
       "      <td>...</td>\n",
       "      <td>77.910004</td>\n",
       "      <td>19.469999</td>\n",
       "      <td>132.929993</td>\n",
       "      <td>10.095</td>\n",
       "      <td>6.74</td>\n",
       "      <td>173.929993</td>\n",
       "      <td>25.219999</td>\n",
       "      <td>9.07</td>\n",
       "      <td>23.530001</td>\n",
       "      <td>12.89</td>\n",
       "    </tr>\n",
       "    <tr>\n",
       "      <th>15388</th>\n",
       "      <td>2023-02-17 00:00:00-05:00</td>\n",
       "      <td>148.259995</td>\n",
       "      <td>46.889999</td>\n",
       "      <td>10.21</td>\n",
       "      <td>11.76</td>\n",
       "      <td>16.360001</td>\n",
       "      <td>14.75</td>\n",
       "      <td>80.000000</td>\n",
       "      <td>149.990005</td>\n",
       "      <td>152.550003</td>\n",
       "      <td>...</td>\n",
       "      <td>76.110001</td>\n",
       "      <td>19.770000</td>\n",
       "      <td>132.350006</td>\n",
       "      <td>10.095</td>\n",
       "      <td>6.77</td>\n",
       "      <td>172.029999</td>\n",
       "      <td>25.309999</td>\n",
       "      <td>8.90</td>\n",
       "      <td>23.360001</td>\n",
       "      <td>13.05</td>\n",
       "    </tr>\n",
       "    <tr>\n",
       "      <th>15389</th>\n",
       "      <td>2023-02-21 00:00:00-05:00</td>\n",
       "      <td>143.419998</td>\n",
       "      <td>48.070000</td>\n",
       "      <td>10.23</td>\n",
       "      <td>11.55</td>\n",
       "      <td>15.690000</td>\n",
       "      <td>13.85</td>\n",
       "      <td>77.570000</td>\n",
       "      <td>144.190002</td>\n",
       "      <td>148.479996</td>\n",
       "      <td>...</td>\n",
       "      <td>72.470001</td>\n",
       "      <td>18.549999</td>\n",
       "      <td>127.839996</td>\n",
       "      <td>10.050</td>\n",
       "      <td>6.58</td>\n",
       "      <td>169.839996</td>\n",
       "      <td>24.090000</td>\n",
       "      <td>8.62</td>\n",
       "      <td>22.750000</td>\n",
       "      <td>12.61</td>\n",
       "    </tr>\n",
       "    <tr>\n",
       "      <th>15390</th>\n",
       "      <td>2023-02-22 00:00:00-05:00</td>\n",
       "      <td>142.080002</td>\n",
       "      <td>48.980000</td>\n",
       "      <td>10.22</td>\n",
       "      <td>11.38</td>\n",
       "      <td>15.560000</td>\n",
       "      <td>14.14</td>\n",
       "      <td>78.029999</td>\n",
       "      <td>143.619995</td>\n",
       "      <td>148.910004</td>\n",
       "      <td>...</td>\n",
       "      <td>73.389999</td>\n",
       "      <td>19.490000</td>\n",
       "      <td>132.160004</td>\n",
       "      <td>10.060</td>\n",
       "      <td>6.51</td>\n",
       "      <td>166.429993</td>\n",
       "      <td>24.320000</td>\n",
       "      <td>8.70</td>\n",
       "      <td>22.959999</td>\n",
       "      <td>12.54</td>\n",
       "    </tr>\n",
       "  </tbody>\n",
       "</table>\n",
       "<p>5 rows × 3158 columns</p>\n",
       "</div>"
      ],
      "text/plain": [
       "                            Date           A         AA    AAC   AADI  \\\n",
       "15386  2023-02-15 00:00:00-05:00  151.750000  48.410000  10.20  11.87   \n",
       "15387  2023-02-16 00:00:00-05:00  148.279999  48.770000  10.22  11.70   \n",
       "15388  2023-02-17 00:00:00-05:00  148.259995  46.889999  10.21  11.76   \n",
       "15389  2023-02-21 00:00:00-05:00  143.419998  48.070000  10.23  11.55   \n",
       "15390  2023-02-22 00:00:00-05:00  142.080002  48.980000  10.22  11.38   \n",
       "\n",
       "             AAL    AAN       AAON         AAP        AAPL  ...         ZM  \\\n",
       "15386  16.799999  15.07  78.959999  151.289993  155.330002  ...  80.769997   \n",
       "15387  16.389999  14.87  78.680000  150.190002  153.710007  ...  77.910004   \n",
       "15388  16.360001  14.75  80.000000  149.990005  152.550003  ...  76.110001   \n",
       "15389  15.690000  13.85  77.570000  144.190002  148.479996  ...  72.470001   \n",
       "15390  15.560000  14.14  78.029999  143.619995  148.910004  ...  73.389999   \n",
       "\n",
       "            ZNTL          ZS      ZT   ZTR         ZTS       ZUMZ   ZUO  \\\n",
       "15386  20.370001  142.770004  10.050  6.76  175.020004  25.530001  9.19   \n",
       "15387  19.469999  132.929993  10.095  6.74  173.929993  25.219999  9.07   \n",
       "15388  19.770000  132.350006  10.095  6.77  172.029999  25.309999  8.90   \n",
       "15389  18.549999  127.839996  10.050  6.58  169.839996  24.090000  8.62   \n",
       "15390  19.490000  132.160004  10.060  6.51  166.429993  24.320000  8.70   \n",
       "\n",
       "             ZWS   ZYXI  \n",
       "15386  24.379999  12.97  \n",
       "15387  23.530001  12.89  \n",
       "15388  23.360001  13.05  \n",
       "15389  22.750000  12.61  \n",
       "15390  22.959999  12.54  \n",
       "\n",
       "[5 rows x 3158 columns]"
      ]
     },
     "execution_count": 6,
     "metadata": {},
     "output_type": "execute_result"
    }
   ],
   "source": [
    "# date range to create graph on\n",
    "targetRange = getSearchRange(\"2022-09-01 00:00:00-05:00\", \"2023-02-22 00:00:00-05:00\")\n",
    "\n",
    "# Number of days in the target range\n",
    "print(targetRange.shape[0])\n",
    "\n",
    "targetRange.tail()"
   ]
  },
  {
   "cell_type": "code",
   "execution_count": 7,
   "metadata": {},
   "outputs": [
    {
     "name": "stdout",
     "output_type": "stream",
     "text": [
      "[0.0198, 0.0239, 0.0427, 0.0535, 0.0682, 0.0911, 0.0577, 0.0771, 0.064, 0.0529, 0.0621, 0.0551, 0.0465, 0.0436, 0.0382, 0.0373, 0.0395, 0.0465, 0.0421, 0.0427, 0.0487, 0.0755, 0.0768, 0.0851, 0.0733, 0.0688, 0.0691, 0.0701, 0.093, 0.0787, 0.0959, 0.107, 0.1074, 0.1004, 0.1265, 0.1373, 0.1618, 0.166, 0.1768, 0.2163, 0.2189, 0.224, 0.1864, 0.1924, 0.2163, 0.23, 0.2322, 0.1972, 0.2727, 0.2762, 0.2596, 0.28, 0.2603, 0.2539, 0.2682, 0.267, 0.2928, 0.2889, 0.2969, 0.2686, 0.2784, 0.3183, 0.3163, 0.3234, 0.2749, 0.2631, 0.2596, 0.2673, 0.2539, 0.273, 0.2867, 0.2721, 0.2335, 0.2208, 0.2106, 0.2227, 0.2443, 0.2249, 0.2342, 0.2345, 0.2141, 0.2402, 0.2332, 0.2278, 0.2406, 0.2339, 0.2712, 0.2668, 0.2853, 0.3009, 0.3151, 0.3281, 0.3183, 0.2904, 0.2722, 0.3022, 0.319, 0.3185, 0.3244, 0.342, 0.3437, 0.3212, 0.3615, 0.3817, 0.4113, 0.3988, 0.3762, 0.3897, 0.3701, 0.3519, 0.3514, 0.3728, 0.3657, 0.3779, 0.3645, 0.3674, 0.3219, 0.3244] 118\n"
     ]
    },
    {
     "data": {
      "image/png": "[encoded data removed]",
      "text/plain": [
       "<Figure size 640x480 with 1 Axes>"
      ]
     },
     "metadata": {},
     "output_type": "display_data"
    }
   ],
   "source": [
    "percents = []\n",
    "for i in range(targetRange.shape[0]):\n",
    "    percents.append(counter(targetRange.iloc[i])[0])\n",
    "print(percents, len(percents))\n",
    "\n",
    "#plot \n",
    "ys = percents\n",
    "xs = range(len(ys))\n",
    "plt.plot(xs, ys)\n",
    "plt.show()\n",
    "plt.close()"
   ]
  }
 ],
 "metadata": {
  "kernelspec": {
   "display_name": "Python 3",
   "language": "python",
   "name": "python3"
  },
  "language_info": {
   "codemirror_mode": {
    "name": "ipython",
    "version": 3
   },
   "file_extension": ".py",
   "mimetype": "text/x-python",
   "name": "python",
   "nbconvert_exporter": "python",
   "pygments_lexer": "ipython3",
   "version": "3.9.7"
  },
  "orig_nbformat": 4,
  "vscode": {
   "interpreter": {
    "hash": "aee8b7b246df8f9039afb4144a1f6fd8d2ca17a180786b69acc140d282b71a49"
   }
  }
 },
 "nbformat": 4,
 "nbformat_minor": 2
}
